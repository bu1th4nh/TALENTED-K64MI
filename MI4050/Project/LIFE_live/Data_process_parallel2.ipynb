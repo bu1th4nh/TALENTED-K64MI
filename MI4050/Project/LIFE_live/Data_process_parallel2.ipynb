{
  "cells": [
    {
      "cell_type": "code",
      "execution_count": 23,
      "metadata": {
        "id": "sX82dgiR77qy"
      },
      "outputs": [],
      "source": [
        "# /*==========================================================================================*\\\n",
        "# **                        _           _ _   _     _  _         _                            **\n",
        "# **                       | |__  _   _/ | |_| |__ | || |  _ __ | |__                         **\n",
        "# **                       | '_ \\| | | | | __| '_ \\| || |_| '_ \\| '_ \\                        **\n",
        "# **                       | |_) | |_| | | |_| | | |__   _| | | | | | |                       **\n",
        "# **                       |_.__/ \\__,_|_|\\__|_| |_|  |_| |_| |_|_| |_|                       **\n",
        "# \\*==========================================================================================*/\n",
        "\n",
        "\n",
        "# Author: Bùi Tiến Thành (@bu1th4nh)\n",
        "# Date: 2022/12/26 14:13 \n",
        "# CTTN Toán tin K64\n",
        "\n",
        "from tqdm import tqdm\n",
        "import matplotlib.pyplot as plt\n",
        "import numpy as np\n",
        "import pandas as pd\n",
        "import seaborn as sns\n",
        "import warnings\n",
        "warnings.filterwarnings('ignore')\n",
        "%matplotlib inline\n",
        "import os\n",
        "import re\n",
        "import ujson as json\n",
        "import os\n",
        "import ot\n",
        "# import pandas_profiling as pp\n",
        "from dtaidistance import dtw\n",
        "\n",
        "# Figure size\n",
        "height = 20\n",
        "width  = 8"
      ]
    },
    {
      "attachments": {},
      "cell_type": "markdown",
      "metadata": {},
      "source": [
        "## Input and Normalization"
      ]
    },
    {
      "cell_type": "code",
      "execution_count": 24,
      "metadata": {},
      "outputs": [],
      "source": [
        "df = pd.read_parquet(\"../DataWater_train_cleansed_phase3.parquet\")\n",
        "\n",
        "# Ariel = df[:int(len(df)//5*4)]\n",
        "Belle = df[int(len(df)//5*4):].copy()"
      ]
    },
    {
      "attachments": {},
      "cell_type": "markdown",
      "metadata": {},
      "source": [
        "## Data test"
      ]
    },
    {
      "cell_type": "code",
      "execution_count": 25,
      "metadata": {},
      "outputs": [
        {
          "name": "stdout",
          "output_type": "stream",
          "text": [
            "D:  10\n",
            "T:  5660\n",
            "Mean:  [8.08862542e+00 1.92143155e+04 6.04362828e+00 1.44514268e+02\n",
            " 3.60454005e+00 7.46178078e+01 1.87313740e+01 4.91225421e+02\n",
            " 2.78585632e+01 2.98941411e+01]\n",
            "Std:   [1.99514440e+00 2.08815839e+04 2.09290107e+00 2.92960738e+01\n",
            " 5.02513002e-01 1.59204979e+01 2.70135568e+00 3.42599435e+02\n",
            " 4.53129821e+00 1.11563399e+00]\n"
          ]
        }
      ],
      "source": [
        "attributes  = Belle.columns\n",
        "mean        = Belle.describe().loc[\"mean\", :].to_numpy()\n",
        "std         = Belle.describe().loc[\"std\", :].to_numpy()\n",
        "D           = len(attributes)\n",
        "T           = len(Belle)\n",
        "\n",
        "\n",
        "print(\"D: \", D);\n",
        "print(\"T: \", T);\n",
        "print(\"Mean: \", mean);\n",
        "print(\"Std:  \", std);"
      ]
    },
    {
      "cell_type": "code",
      "execution_count": 26,
      "metadata": {},
      "outputs": [],
      "source": [
        "# Do data được đo theo giờ nên ta có thể chuyển qua thời gian tương đối\n",
        "initial_time = Belle.index[0];\n",
        "Belle.reset_index(drop=True, inplace=True)\n",
        "for i, col in enumerate(Belle.columns):\n",
        "    Belle[col] = Belle[col].apply(lambda x: (x - mean[i]) / std[i])"
      ]
    },
    {
      "cell_type": "markdown",
      "metadata": {},
      "source": [
        "### Xây dựng ma trận đánh dấu"
      ]
    },
    {
      "cell_type": "code",
      "execution_count": 27,
      "metadata": {},
      "outputs": [
        {
          "data": {
            "text/html": [
              "<div>\n",
              "<style scoped>\n",
              "    .dataframe tbody tr th:only-of-type {\n",
              "        vertical-align: middle;\n",
              "    }\n",
              "\n",
              "    .dataframe tbody tr th {\n",
              "        vertical-align: top;\n",
              "    }\n",
              "\n",
              "    .dataframe thead th {\n",
              "        text-align: right;\n",
              "    }\n",
              "</style>\n",
              "<table border=\"1\" class=\"dataframe\">\n",
              "  <thead>\n",
              "    <tr style=\"text-align: right;\">\n",
              "      <th></th>\n",
              "      <th>pH</th>\n",
              "      <th>EC</th>\n",
              "      <th>DO</th>\n",
              "      <th>TSS</th>\n",
              "      <th>TN</th>\n",
              "      <th>TP</th>\n",
              "      <th>TOC</th>\n",
              "      <th>ORP</th>\n",
              "      <th>Temp</th>\n",
              "      <th>TEMP</th>\n",
              "    </tr>\n",
              "  </thead>\n",
              "  <tbody>\n",
              "    <tr>\n",
              "      <th>0</th>\n",
              "      <td>True</td>\n",
              "      <td>True</td>\n",
              "      <td>True</td>\n",
              "      <td>True</td>\n",
              "      <td>True</td>\n",
              "      <td>True</td>\n",
              "      <td>True</td>\n",
              "      <td>True</td>\n",
              "      <td>True</td>\n",
              "      <td>True</td>\n",
              "    </tr>\n",
              "    <tr>\n",
              "      <th>1</th>\n",
              "      <td>True</td>\n",
              "      <td>True</td>\n",
              "      <td>True</td>\n",
              "      <td>True</td>\n",
              "      <td>True</td>\n",
              "      <td>True</td>\n",
              "      <td>True</td>\n",
              "      <td>True</td>\n",
              "      <td>True</td>\n",
              "      <td>True</td>\n",
              "    </tr>\n",
              "    <tr>\n",
              "      <th>2</th>\n",
              "      <td>True</td>\n",
              "      <td>True</td>\n",
              "      <td>True</td>\n",
              "      <td>True</td>\n",
              "      <td>True</td>\n",
              "      <td>True</td>\n",
              "      <td>True</td>\n",
              "      <td>True</td>\n",
              "      <td>True</td>\n",
              "      <td>True</td>\n",
              "    </tr>\n",
              "    <tr>\n",
              "      <th>3</th>\n",
              "      <td>True</td>\n",
              "      <td>True</td>\n",
              "      <td>True</td>\n",
              "      <td>True</td>\n",
              "      <td>True</td>\n",
              "      <td>True</td>\n",
              "      <td>True</td>\n",
              "      <td>True</td>\n",
              "      <td>True</td>\n",
              "      <td>True</td>\n",
              "    </tr>\n",
              "    <tr>\n",
              "      <th>4</th>\n",
              "      <td>True</td>\n",
              "      <td>True</td>\n",
              "      <td>True</td>\n",
              "      <td>True</td>\n",
              "      <td>True</td>\n",
              "      <td>True</td>\n",
              "      <td>True</td>\n",
              "      <td>True</td>\n",
              "      <td>True</td>\n",
              "      <td>True</td>\n",
              "    </tr>\n",
              "  </tbody>\n",
              "</table>\n",
              "</div>"
            ],
            "text/plain": [
              "     pH    EC    DO   TSS    TN    TP   TOC   ORP  Temp  TEMP\n",
              "0  True  True  True  True  True  True  True  True  True  True\n",
              "1  True  True  True  True  True  True  True  True  True  True\n",
              "2  True  True  True  True  True  True  True  True  True  True\n",
              "3  True  True  True  True  True  True  True  True  True  True\n",
              "4  True  True  True  True  True  True  True  True  True  True"
            ]
          },
          "metadata": {},
          "output_type": "display_data"
        }
      ],
      "source": [
        "mask = ~pd.isnull(Belle)\n",
        "display(mask.head(5))\n",
        "# pp.ProfileReport(Belle)"
      ]
    },
    {
      "cell_type": "markdown",
      "metadata": {},
      "source": [
        "### Xây dựng ma trận delta dựa theo số bước\n"
      ]
    },
    {
      "cell_type": "code",
      "execution_count": 28,
      "metadata": {},
      "outputs": [],
      "source": [
        "n_steps = 128\n",
        "\n",
        "def build_delta(start):\n",
        "    delta = np.zeros((n_steps, D))\n",
        "    for i in range(1, n_steps):\n",
        "        delta[i] = np.ones(D) + (np.ones(D).astype('int') - mask.loc[start + i - 1, :].astype('int')) * delta[i - 1]\n",
        "    return delta\n"
      ]
    },
    {
      "cell_type": "markdown",
      "metadata": {},
      "source": [
        "### Xây dựng mẫu"
      ]
    },
    {
      "cell_type": "code",
      "execution_count": 29,
      "metadata": {},
      "outputs": [
        {
          "name": "stderr",
          "output_type": "stream",
          "text": [
            "Building sample index list: 100%|██████████| 5532/5532 [00:01<00:00, 2997.69it/s]"
          ]
        },
        {
          "name": "stdout",
          "output_type": "stream",
          "text": [
            "903\n"
          ]
        },
        {
          "name": "stderr",
          "output_type": "stream",
          "text": [
            "\n"
          ]
        }
      ],
      "source": [
        "idx_list = []\n",
        "start = 0;\n",
        "end = 0;\n",
        "\n",
        "for i in tqdm(range(n_steps, T), desc=\"Building sample index list\"):\n",
        "    if(not np.any(pd.isnull(Belle.loc[i, :])) and i % 3 == 0): \n",
        "        idx_list.append((i - n_steps, i))\n",
        "\n",
        "\n",
        "print(len(idx_list))"
      ]
    },
    {
      "cell_type": "markdown",
      "metadata": {},
      "source": [
        "### Xây dựng JSON"
      ]
    },
    {
      "cell_type": "code",
      "execution_count": 31,
      "metadata": {},
      "outputs": [
        {
          "name": "stderr",
          "output_type": "stream",
          "text": [
            "Building JSON: 903it [01:55,  7.81it/s]\n"
          ]
        }
      ],
      "source": [
        "def parse_rec(values, masks, deltas):\n",
        "\n",
        "    # only used in GRU-D\n",
        "    forwards = pd.DataFrame(values).fillna(method='ffill').fillna(0.0).iloc[:,:].values\n",
        "\n",
        "    rec = {}\n",
        "\n",
        "    rec['values'] = np.nan_to_num(values).tolist()\n",
        "    rec['masks'] = masks.astype('int32').tolist()\n",
        "    rec['forwards'] = forwards.tolist()\n",
        "    rec['deltas'] = deltas.tolist()\n",
        "\n",
        "    return rec\n",
        "\n",
        "\n",
        "\n",
        "save_path = 'data/json/split-valid'\n",
        "if not os.path.exists(save_path):\n",
        "    os.makedirs(save_path)\n",
        "for i, (start, end) in tqdm(enumerate(idx_list), desc='Building JSON'):\n",
        "    values = Belle.iloc[start:end].to_numpy()\n",
        "    delta  = build_delta(start)\n",
        "    mask_  = mask.iloc[start:end].to_numpy()\n",
        "    label  = Belle.loc[end].to_numpy()\n",
        "\n",
        "    rec = {'label': label.tolist()}\n",
        "    rec['forward']  = parse_rec(values, mask_, delta)\n",
        "    rec['backward'] = parse_rec(values, mask_, delta)\n",
        "    rec = json.dumps(rec)\n",
        "\n",
        "    save_file = os.path.join(save_path, str(i))\n",
        "    with open(save_file,'w') as f:\n",
        "        f.write(rec)"
      ]
    }
  ],
  "metadata": {
    "colab": {
      "provenance": []
    },
    "kernelspec": {
      "display_name": "base",
      "language": "python",
      "name": "python3"
    },
    "language_info": {
      "codemirror_mode": {
        "name": "ipython",
        "version": 3
      },
      "file_extension": ".py",
      "mimetype": "text/x-python",
      "name": "python",
      "nbconvert_exporter": "python",
      "pygments_lexer": "ipython3",
      "version": "3.7.12"
    },
    "vscode": {
      "interpreter": {
        "hash": "d4d1e4263499bec80672ea0156c357c1ee493ec2b1c70f0acce89fc37c4a6abe"
      }
    }
  },
  "nbformat": 4,
  "nbformat_minor": 0
}
